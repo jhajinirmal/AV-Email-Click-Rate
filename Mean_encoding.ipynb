{
 "cells": [
  {
   "cell_type": "code",
   "execution_count": 939,
   "id": "5be11791",
   "metadata": {},
   "outputs": [],
   "source": [
    "import pandas as pd\n",
    "from sklearn.model_selection import train_test_split\n",
    "from sklearn.linear_model import LinearRegression\n",
    "from sklearn.linear_model import Lasso\n",
    "\n",
    "from sklearn.pipeline import make_pipeline\n",
    "from sklearn.preprocessing import StandardScaler\n",
    "from sklearn.metrics import r2_score\n",
    "from sklearn.model_selection import GridSearchCV\n"
   ]
  },
  {
   "cell_type": "code",
   "execution_count": 940,
   "id": "1ea2ec9c",
   "metadata": {},
   "outputs": [],
   "source": [
    "def wrangle(filepath):\n",
    "    df = pd.read_csv(filepath).set_index(\"campaign_id\")\n",
    "    \n",
    "    df.drop(columns = [\"is_timer\"], inplace = True)\n",
    "    \n",
    "    cat_cols = [\"product\", \"category\", \"times_of_day\", \"day_of_week\", \"sender\", \"target_audience\"]\n",
    "\n",
    "    #for col in cat_cols:\n",
    "     #   df[col] = pd.Categorical(df[col])\n",
    "        \n",
    "    return df"
   ]
  },
  {
   "cell_type": "code",
   "execution_count": 941,
   "id": "9d8a2ff3",
   "metadata": {},
   "outputs": [],
   "source": [
    "df = wrangle(\"train_F3fUq2S.csv\")\n",
    "df_test = wrangle(\"jobathontest.csv\")"
   ]
  },
  {
   "cell_type": "code",
   "execution_count": 942,
   "id": "0b786b81",
   "metadata": {},
   "outputs": [],
   "source": [
    "mean_rate = round(df.click_rate.mean(), 6)\n"
   ]
  },
  {
   "cell_type": "code",
   "execution_count": 943,
   "id": "31ffb1a2",
   "metadata": {},
   "outputs": [],
   "source": [
    "absent_products = list(set(df_test[\"product\"].unique()) - set(df[\"product\"].unique()))\n",
    "\n",
    "prod_means = df.groupby(\"product\")[\"click_rate\"].mean().to_dict()\n",
    "for prod in absent_products:\n",
    "    prod_means[prod] = mean_rate\n",
    "df[\"product\"] = df[\"product\"].map(prod_means)\n",
    "df_test[\"product\"] = df_test[\"product\"].map(prod_means)"
   ]
  },
  {
   "cell_type": "code",
   "execution_count": 944,
   "id": "a2d5ae9a",
   "metadata": {},
   "outputs": [],
   "source": [
    "cat_means = df.groupby(\"category\")[\"click_rate\"].mean().to_dict()\n",
    "df[\"category\"] = df[\"category\"].map(cat_means)\n",
    "df_test[\"category\"] = df_test[\"category\"].map(cat_means)"
   ]
  },
  {
   "cell_type": "code",
   "execution_count": 945,
   "id": "b6793523",
   "metadata": {},
   "outputs": [],
   "source": [
    "times_dummies = pd.get_dummies(df.pop(\"times_of_day\"))\n",
    "df = pd.concat([df, times_dummies], axis = \"columns\")\n",
    "times_dummies = pd.get_dummies(df_test.pop(\"times_of_day\"))\n",
    "df_test = pd.concat([df_test, times_dummies], axis = \"columns\")\n"
   ]
  },
  {
   "cell_type": "code",
   "execution_count": 946,
   "id": "7132007f",
   "metadata": {},
   "outputs": [],
   "source": [
    "day_means = df.groupby(\"day_of_week\")[\"click_rate\"].mean().to_dict()\n",
    "df[\"day_of_week\"] = df[\"day_of_week\"].map(day_means)\n",
    "df_test[\"day_of_week\"] = df_test[\"day_of_week\"].map(day_means)"
   ]
  },
  {
   "cell_type": "code",
   "execution_count": 947,
   "id": "851dec7f",
   "metadata": {},
   "outputs": [],
   "source": [
    "absent_senders = list(set(df_test[\"sender\"].unique()) - set(df[\"sender\"].unique()))\n",
    "\n",
    "sender_means = df.groupby(\"sender\")[\"click_rate\"].mean().to_dict()\n",
    "\n",
    "for sender in absent_senders:\n",
    "    sender_means[sender] = mean_rate\n",
    "    \n",
    "df[\"sender\"] = df[\"sender\"].map(sender_means)\n",
    "df_test[\"sender\"] = df_test[\"sender\"].map(sender_means)"
   ]
  },
  {
   "cell_type": "code",
   "execution_count": 948,
   "id": "2b2a5632",
   "metadata": {},
   "outputs": [],
   "source": [
    "audience_means = df.groupby(\"target_audience\")[\"click_rate\"].mean().to_dict()\n",
    "df[\"target_audience\"] = df[\"target_audience\"].map(audience_means)\n",
    "df_test[\"target_audience\"] = df_test[\"target_audience\"].map(audience_means)"
   ]
  },
  {
   "cell_type": "code",
   "execution_count": 949,
   "id": "fa5b6358",
   "metadata": {},
   "outputs": [],
   "source": [
    "#df[\"no_of_CTA\"] = 1/(df[\"no_of_CTA\"]+1)"
   ]
  },
  {
   "cell_type": "code",
   "execution_count": 950,
   "id": "ce92b4a6",
   "metadata": {},
   "outputs": [
    {
     "data": {
      "text/plain": [
       "sender                0\n",
       "subject_len           0\n",
       "body_len              0\n",
       "mean_paragraph_len    0\n",
       "day_of_week           0\n",
       "is_weekend            0\n",
       "category              0\n",
       "product               0\n",
       "no_of_CTA             0\n",
       "mean_CTA_len          0\n",
       "is_image              0\n",
       "is_personalised       0\n",
       "is_quote              0\n",
       "is_emoticons          0\n",
       "is_discount           0\n",
       "is_price              0\n",
       "is_urgency            0\n",
       "target_audience       0\n",
       "Evening               0\n",
       "Morning               0\n",
       "Noon                  0\n",
       "dtype: int64"
      ]
     },
     "execution_count": 950,
     "metadata": {},
     "output_type": "execute_result"
    }
   ],
   "source": [
    "df_test.isnull().sum()"
   ]
  },
  {
   "cell_type": "code",
   "execution_count": 951,
   "id": "3b5e33a7",
   "metadata": {},
   "outputs": [],
   "source": [
    "y = df.pop(\"click_rate\")\n",
    "X = df\n",
    "unsig_cols = [\"is_discount\", \"is_price\", \"is_urgency\"]\n",
    "X.drop(columns = unsig_cols, inplace = True)\n",
    "df_test.drop(columns = unsig_cols, inplace = True)\n",
    "X_train, X_valid, y_train, y_valid = train_test_split(X, y, random_state = 42, test_size = 0.1)"
   ]
  },
  {
   "cell_type": "code",
   "execution_count": 952,
   "id": "a3f7400d",
   "metadata": {},
   "outputs": [
    {
     "name": "stdout",
     "output_type": "stream",
     "text": [
      "The training r2_score for the rf model is : 0.7861\n",
      "The validation r2_score for the rf model is : 0.6393\n"
     ]
    }
   ],
   "source": [
    "from sklearn.ensemble import RandomForestRegressor\n",
    "\n",
    "rf = RandomForestRegressor(random_state= 42)\n",
    "\n",
    "rf_params = {\"max_depth\": [12],\n",
    "            \"max_features\": [0.4],\n",
    "            \"max_samples\": [1.0],\n",
    "            \"n_estimators\": [25],\n",
    "            \"min_impurity_decrease\": [0.00002]}\n",
    "\n",
    "rf_grid = GridSearchCV(estimator= rf, param_grid= rf_params, cv = 8)\n",
    "\n",
    "\n",
    "rf_grid.fit(X_train, y_train)\n",
    "\n",
    "y_pred = rf_grid.predict(X_train)\n",
    "r2_rf = r2_score(y_train, y_pred)\n",
    "print(\"The training r2_score for the rf model is :\", round(r2_rf, 4))\n",
    "print(\"The validation r2_score for the rf model is :\", \n",
    "      round(r2_score(y_valid, rf_grid.predict(X_valid)), 4))"
   ]
  },
  {
   "cell_type": "code",
   "execution_count": 953,
   "id": "65e85c27",
   "metadata": {},
   "outputs": [],
   "source": [
    "y_pred1 = rf_grid.predict(df_test)"
   ]
  },
  {
   "cell_type": "code",
   "execution_count": 954,
   "id": "e1c8e7ca",
   "metadata": {},
   "outputs": [
    {
     "name": "stdout",
     "output_type": "stream",
     "text": [
      "The training r2_score for the xgbr model is : 0.9642\n",
      "The validation r2_score for the xgbr model is : 0.7553\n"
     ]
    }
   ],
   "source": [
    "#XGBoost model\n",
    "\n",
    "from xgboost import XGBRegressor\n",
    "\n",
    "xgbr = XGBRegressor(random_state = 42, n_estimators = 20, alpha = 0)\n",
    "\n",
    "xgbr_params = {\"eta\": [0.3],\n",
    "              \"gamma\": [0.03],\n",
    "              \"max_depth\": [12],\n",
    "               \"colsample_bytree\": [0.7],\n",
    "               \"colsample_bylevel\": [0.7],\n",
    "               \"colsample_bynode\": [0.9],\n",
    "               \"min_child_weight\" : [0.1],\n",
    "               \"subsample\": [0.7],\n",
    "               \"lambda\": [0.05],\n",
    "               \"objective\": [\"reg:logistic\"]\n",
    "              }\n",
    "\n",
    "xgbr_grid = GridSearchCV(estimator= xgbr,\n",
    "                        param_grid= xgbr_params, \n",
    "                        cv = 5)\n",
    "xgbr_grid.fit(X_train, y_train)\n",
    "\n",
    "y_pred = xgbr_grid.predict(X_train)\n",
    "r2_xgbr = r2_score(y_train, y_pred)\n",
    "print(\"The training r2_score for the xgbr model is :\", round(r2_xgbr, 4))\n",
    "print(\"The validation r2_score for the xgbr model is :\", \n",
    "      round(r2_score(y_valid, xgbr_grid.predict(X_valid)), 4))"
   ]
  },
  {
   "cell_type": "code",
   "execution_count": null,
   "id": "846c3363",
   "metadata": {},
   "outputs": [],
   "source": []
  },
  {
   "cell_type": "code",
   "execution_count": null,
   "id": "0470ce27",
   "metadata": {},
   "outputs": [],
   "source": []
  },
  {
   "cell_type": "code",
   "execution_count": null,
   "id": "082230e1",
   "metadata": {},
   "outputs": [],
   "source": []
  },
  {
   "cell_type": "code",
   "execution_count": null,
   "id": "6bb5fcf2",
   "metadata": {},
   "outputs": [],
   "source": []
  },
  {
   "cell_type": "code",
   "execution_count": null,
   "id": "652fdc16",
   "metadata": {},
   "outputs": [],
   "source": []
  },
  {
   "cell_type": "code",
   "execution_count": 955,
   "id": "96ddd81e",
   "metadata": {},
   "outputs": [],
   "source": [
    "y_pred2 = xgbr_grid.predict(df_test)"
   ]
  },
  {
   "cell_type": "code",
   "execution_count": 956,
   "id": "eb8e3f79",
   "metadata": {},
   "outputs": [],
   "source": [
    "sub = pd.read_csv(\"sample_submission_LJ2N3ZQ.csv\").set_index(\"campaign_id\")\n",
    "sub[\"click_rate\"] = y_pred2\n",
    "sub.to_csv(\"submission_mean_encoder_rf_xgb.csv\")"
   ]
  },
  {
   "cell_type": "code",
   "execution_count": null,
   "id": "99c75089",
   "metadata": {},
   "outputs": [],
   "source": []
  }
 ],
 "metadata": {
  "kernelspec": {
   "display_name": "Python 3 (ipykernel)",
   "language": "python",
   "name": "python3"
  },
  "language_info": {
   "codemirror_mode": {
    "name": "ipython",
    "version": 3
   },
   "file_extension": ".py",
   "mimetype": "text/x-python",
   "name": "python",
   "nbconvert_exporter": "python",
   "pygments_lexer": "ipython3",
   "version": "3.8.10"
  }
 },
 "nbformat": 4,
 "nbformat_minor": 5
}
