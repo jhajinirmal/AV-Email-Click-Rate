{
 "cells": [
  {
   "cell_type": "code",
   "execution_count": 635,
   "id": "ed2a30a0",
   "metadata": {},
   "outputs": [],
   "source": [
    "import pandas as pd\n",
    "from sklearn.model_selection import train_test_split\n",
    "from sklearn.linear_model import LinearRegression\n",
    "from sklearn.linear_model import Lasso\n",
    "\n",
    "from sklearn.pipeline import make_pipeline\n",
    "from sklearn.preprocessing import StandardScaler\n",
    "from sklearn.metrics import r2_score\n",
    "from sklearn.model_selection import GridSearchCV"
   ]
  },
  {
   "cell_type": "code",
   "execution_count": 636,
   "id": "50f6f888",
   "metadata": {},
   "outputs": [],
   "source": [
    "#Read and preprocess data\n",
    "\n",
    "def wrangle(filepath):\n",
    "    \n",
    "    #Reading Data\n",
    "    df = pd.read_csv(filepath).set_index(\"campaign_id\")\n",
    "\n",
    "    #Dropping \"is_timer\" column due to low cardinality (single value)\n",
    "    df.drop(columns = [\"is_timer\"], inplace = True)\n",
    "\n",
    "    #Changing dtype of categorical columns to categorical\n",
    "    cat_cols = [\"product\", \"category\", \"times_of_day\", \"day_of_week\", \"sender\", \"target_audience\"]\n",
    "\n",
    "    for col in cat_cols:\n",
    "        df[col] = pd.Categorical(df[col])\n",
    "\n",
    "    #Getting dummies\n",
    "    df_cat = pd.get_dummies(df[cat_cols])\n",
    "\n",
    "    #Removing categorical columns from df\n",
    "    for col in cat_cols:\n",
    "        df.pop(col)\n",
    "    #Concating dummies and remaining columns of df\n",
    "    df = pd.concat([df, df_cat], axis = \"columns\")\n",
    "\n",
    "    #Deleting df_cat\n",
    "    del df_cat\n",
    "    \n",
    "    return df"
   ]
  },
  {
   "cell_type": "code",
   "execution_count": 637,
   "id": "80d5e0e2",
   "metadata": {},
   "outputs": [],
   "source": [
    "df = wrangle(\"train_F3fUq2S.csv\")\n",
    "y = df.pop(\"click_rate\")\n",
    "X = df\n"
   ]
  },
  {
   "cell_type": "code",
   "execution_count": 638,
   "id": "3fcc9815",
   "metadata": {},
   "outputs": [
    {
     "data": {
      "text/plain": [
       "(1888, 111)"
      ]
     },
     "execution_count": 638,
     "metadata": {},
     "output_type": "execute_result"
    }
   ],
   "source": [
    "df.shape"
   ]
  },
  {
   "cell_type": "code",
   "execution_count": 639,
   "id": "5cd7ddc9",
   "metadata": {},
   "outputs": [
    {
     "name": "stdout",
     "output_type": "stream",
     "text": [
      "The number of columns in X is:  117\n",
      "The number of columns in X_test is:  117\n"
     ]
    }
   ],
   "source": [
    "X_test = wrangle(\"jobathontest.csv\")\n",
    "#Creating missing columns in test_data\n",
    "for col in df.columns:\n",
    "    if col not in X_test.columns:\n",
    "        X_test[col] = 0\n",
    "\n",
    "#Creating missing columns in train data\n",
    "for col in X_test.columns:\n",
    "    if col not in df.columns:\n",
    "        df[col] = 0\n",
    "\n",
    "print(\"The number of columns in X is: \", X.shape[1])\n",
    "print(\"The number of columns in X_test is: \", X_test.shape[1])"
   ]
  },
  {
   "cell_type": "code",
   "execution_count": 640,
   "id": "a633179e",
   "metadata": {},
   "outputs": [],
   "source": [
    "#Splitting into test and validation tests\n",
    "\n",
    "X_train, X_valid, y_train, y_valid = train_test_split(X, y, random_state = 42, test_size = 0.1)"
   ]
  },
  {
   "cell_type": "code",
   "execution_count": 641,
   "id": "2ac1fa28",
   "metadata": {},
   "outputs": [
    {
     "name": "stdout",
     "output_type": "stream",
     "text": [
      "The training r2_score for the rf model is : 0.6987\n",
      "The validation r2_score for the rf model is : 0.6144\n"
     ]
    }
   ],
   "source": [
    "#Random_forest\n",
    "\n",
    "from sklearn.ensemble import RandomForestRegressor\n",
    "\n",
    "rf = RandomForestRegressor(random_state= 42)\n",
    "\n",
    "rf_params = {\"n_estimators\": [92],\n",
    "            \"max_depth\": [7],\n",
    "            \"max_features\" : [0.4],\n",
    "            \"max_samples\" : [0.9],\n",
    "            \"min_impurity_decrease\": [0.00001]}\n",
    "\n",
    "rf1_grid = GridSearchCV(estimator= rf, param_grid= rf_params, cv = 5)\n",
    "\n",
    "rf1_grid.fit(X_train, y_train)\n",
    "\n",
    "\n",
    "y_pred = rf1_grid.predict(X_train)\n",
    "r2_rf = r2_score(y_train, y_pred)\n",
    "print(\"The training r2_score for the rf model is :\", round(r2_rf, 4))\n",
    "print(\"The validation r2_score for the rf model is :\", \n",
    "      round(r2_score(y_valid, rf1_grid.predict(X_valid)), 4))"
   ]
  },
  {
   "cell_type": "code",
   "execution_count": 642,
   "id": "3211fdba",
   "metadata": {},
   "outputs": [
    {
     "name": "stdout",
     "output_type": "stream",
     "text": [
      "The training r2_score for the xgbr model is : 0.7336\n",
      "The validation r2_score for the xgbr model is : 0.6835\n"
     ]
    }
   ],
   "source": [
    "#XGBoost model\n",
    "\n",
    "from xgboost import XGBRegressor\n",
    "\n",
    "xgbr = XGBRegressor(random_state = 42, n_estimators = 22, alpha = 1)\n",
    "\n",
    "xgbr_params = {\"eta\": [0.4],\n",
    "              \"gamma\": [0.025],\n",
    "              \"max_depth\": [12],\n",
    "               \"colsample_bytree\": [0.4],\n",
    "               \"colsample_bylevel\": [0.7],\n",
    "               \"colsample_bynode\": [0.9],\n",
    "               \"min_child_weight\" : [0.01],\n",
    "               \"subsample\": [1.0],\n",
    "               \"lambda\": [0.05],\n",
    "               \"objective\": [\"reg:logistic\"]\n",
    "              }\n",
    "\n",
    "xgbr1_grid = GridSearchCV(estimator= xgbr,\n",
    "                        param_grid= xgbr_params, \n",
    "                        cv = 5)\n",
    "xgbr1_grid.fit(X_train, y_train)\n",
    "\n",
    "y_pred = xgbr1_grid.predict(X_train)\n",
    "r2_xgbr = r2_score(y_train, y_pred)\n",
    "print(\"The training r2_score for the xgbr model is :\", round(r2_xgbr, 4))\n",
    "print(\"The validation r2_score for the xgbr model is :\", \n",
    "      round(r2_score(y_valid, xgbr1_grid.predict(X_valid)), 4))"
   ]
  },
  {
   "cell_type": "code",
   "execution_count": 643,
   "id": "69e3be93",
   "metadata": {},
   "outputs": [],
   "source": [
    "xgbr1_pred = xgbr1_grid.predict(X_test)\n"
   ]
  },
  {
   "cell_type": "code",
   "execution_count": null,
   "id": "24bf1b6c",
   "metadata": {},
   "outputs": [],
   "source": []
  },
  {
   "cell_type": "code",
   "execution_count": null,
   "id": "8520a028",
   "metadata": {},
   "outputs": [],
   "source": []
  },
  {
   "cell_type": "code",
   "execution_count": 644,
   "id": "2342c623",
   "metadata": {},
   "outputs": [],
   "source": [
    "names = X_train.columns\n",
    "imp = sorted(zip(map(lambda x: round(x, 4), rf_grid.best_estimator_.feature_importances_), names), \n",
    "             reverse=True)\n"
   ]
  },
  {
   "cell_type": "markdown",
   "id": "d7f267e0",
   "metadata": {},
   "source": [
    "# Remove Unsignificant columns and reiterate"
   ]
  },
  {
   "cell_type": "code",
   "execution_count": 645,
   "id": "f3dd6874",
   "metadata": {},
   "outputs": [],
   "source": [
    "df = wrangle(\"train_F3fUq2S.csv\")\n",
    "y = df.pop(\"click_rate\")\n",
    "X = df\n",
    "non_sig = [imp[i][1] for i in range(0,117) if imp[i][0] < 0.015]"
   ]
  },
  {
   "cell_type": "code",
   "execution_count": 646,
   "id": "f1bbbf7f",
   "metadata": {},
   "outputs": [
    {
     "name": "stdout",
     "output_type": "stream",
     "text": [
      "The number of columns in X is:  15\n",
      "The number of columns in X_test is:  15\n"
     ]
    }
   ],
   "source": [
    "X_test = wrangle(\"jobathontest.csv\")\n",
    "#Creating missing columns in test_data\n",
    "for col in df.columns:\n",
    "    if col not in X_test.columns:\n",
    "        X_test[col] = 0\n",
    "\n",
    "#Creating missing columns in train data\n",
    "for col in X_test.columns:\n",
    "    if col not in df.columns:\n",
    "        df[col] = 0\n",
    "X.drop(columns = non_sig, inplace = True)\n",
    "X_test.drop(columns = non_sig, inplace = True)\n",
    "\n",
    "print(\"The number of columns in X is: \", X.shape[1])\n",
    "print(\"The number of columns in X_test is: \", X_test.shape[1])"
   ]
  },
  {
   "cell_type": "code",
   "execution_count": 647,
   "id": "22e735a5",
   "metadata": {},
   "outputs": [],
   "source": [
    "#Splitting into test and validation tests\n",
    "\n",
    "X_train, X_valid, y_train, y_valid = train_test_split(X, y, random_state = 42, test_size = 0.1)"
   ]
  },
  {
   "cell_type": "code",
   "execution_count": 648,
   "id": "18026479",
   "metadata": {},
   "outputs": [
    {
     "name": "stdout",
     "output_type": "stream",
     "text": [
      "The training r2_score for the rf model is : 0.8298\n",
      "The validation r2_score for the rf model is : 0.7102\n"
     ]
    }
   ],
   "source": [
    "#Random_forest\n",
    "\n",
    "from sklearn.ensemble import RandomForestRegressor\n",
    "\n",
    "rf = RandomForestRegressor(random_state= 42)\n",
    "\n",
    "rf_params = {\"n_estimators\": [92],\n",
    "            \"max_depth\": [18],\n",
    "            \"max_features\" : [0.5],\n",
    "            \"max_samples\" : [1.0],\n",
    "            \"min_impurity_decrease\": [0.00001]}\n",
    "\n",
    "rf2_grid = GridSearchCV(estimator= rf, param_grid= rf_params, cv = 5)\n",
    "\n",
    "rf2_grid.fit(X_train, y_train)\n",
    "\n",
    "\n",
    "y_pred = rf2_grid.predict(X_train)\n",
    "r2_rf = r2_score(y_train, y_pred)\n",
    "print(\"The training r2_score for the rf model is :\", round(r2_rf, 4))\n",
    "print(\"The validation r2_score for the rf model is :\", \n",
    "      round(r2_score(y_valid, rf2_grid.predict(X_valid)), 4))"
   ]
  },
  {
   "cell_type": "code",
   "execution_count": 649,
   "id": "bb95bf57",
   "metadata": {},
   "outputs": [
    {
     "name": "stdout",
     "output_type": "stream",
     "text": [
      "The training r2_score for the xgbr model is : 0.8307\n",
      "The validation r2_score for the xgbr model is : 0.7546\n"
     ]
    }
   ],
   "source": [
    "#XGBoost model\n",
    "\n",
    "from xgboost import XGBRegressor\n",
    "\n",
    "xgbr = XGBRegressor(random_state = 42, n_estimators = 600, alpha = 1)\n",
    "\n",
    "xgbr_params = {\"eta\": [0.4],\n",
    "              \"gamma\": [0.01],\n",
    "              \"max_depth\": [12],\n",
    "               \"colsample_bytree\": [0.8],\n",
    "               \"colsample_bylevel\": [0.7],\n",
    "               \"colsample_bynode\": [0.9],\n",
    "               \"min_child_weight\" : [0.01],\n",
    "               \"subsample\": [0.9],\n",
    "               \"lambda\": [0.01],\n",
    "               \"objective\": [\"reg:logistic\"]\n",
    "              }\n",
    "\n",
    "xgbr2_grid = GridSearchCV(estimator= xgbr,\n",
    "                        param_grid= xgbr_params, \n",
    "                        cv = 5)\n",
    "xgbr2_grid.fit(X_train, y_train)\n",
    "\n",
    "y_pred = xgbr2_grid.predict(X_train)\n",
    "r2_xgbr = r2_score(y_train, y_pred)\n",
    "print(\"The training r2_score for the xgbr model is :\", round(r2_xgbr, 4))\n",
    "print(\"The validation r2_score for the xgbr model is :\", \n",
    "      round(r2_score(y_valid, xgbr2_grid.predict(X_valid)), 4))"
   ]
  },
  {
   "cell_type": "code",
   "execution_count": null,
   "id": "a0cefd76",
   "metadata": {},
   "outputs": [],
   "source": []
  },
  {
   "cell_type": "markdown",
   "id": "cd4e122e",
   "metadata": {},
   "source": [
    "# Testing"
   ]
  },
  {
   "cell_type": "code",
   "execution_count": 656,
   "id": "69c5f94c",
   "metadata": {
    "scrolled": true
   },
   "outputs": [],
   "source": [
    "rf2_pred = rf2_grid.predict(X_test)\n",
    "xgbr2_pred = xgbr2_grid.predict(X_test)\n",
    "sub = pd.read_csv(\"sample_submission_LJ2N3ZQ.csv\")\n",
    "sub[\"click_rate\"] = xgbr2_pred\n",
    "sub.set_index(\"campaign_id\", inplace = True)\n",
    "pred_mean = pd.read_csv(\"submission_mean_encoder_rf_xgb.csv\").set_index(\"campaign_id\")\n",
    "average_pred = (pred_mean + sub)/2"
   ]
  },
  {
   "cell_type": "code",
   "execution_count": 657,
   "id": "f6dbc321",
   "metadata": {},
   "outputs": [
    {
     "data": {
      "text/html": [
       "<div>\n",
       "<style scoped>\n",
       "    .dataframe tbody tr th:only-of-type {\n",
       "        vertical-align: middle;\n",
       "    }\n",
       "\n",
       "    .dataframe tbody tr th {\n",
       "        vertical-align: top;\n",
       "    }\n",
       "\n",
       "    .dataframe thead th {\n",
       "        text-align: right;\n",
       "    }\n",
       "</style>\n",
       "<table border=\"1\" class=\"dataframe\">\n",
       "  <thead>\n",
       "    <tr style=\"text-align: right;\">\n",
       "      <th></th>\n",
       "      <th>click_rate</th>\n",
       "    </tr>\n",
       "    <tr>\n",
       "      <th>campaign_id</th>\n",
       "      <th></th>\n",
       "    </tr>\n",
       "  </thead>\n",
       "  <tbody>\n",
       "    <tr>\n",
       "      <th>1889</th>\n",
       "      <td>0.049453</td>\n",
       "    </tr>\n",
       "    <tr>\n",
       "      <th>1890</th>\n",
       "      <td>0.641620</td>\n",
       "    </tr>\n",
       "    <tr>\n",
       "      <th>1891</th>\n",
       "      <td>0.180942</td>\n",
       "    </tr>\n",
       "    <tr>\n",
       "      <th>1892</th>\n",
       "      <td>0.180942</td>\n",
       "    </tr>\n",
       "    <tr>\n",
       "      <th>1893</th>\n",
       "      <td>0.115953</td>\n",
       "    </tr>\n",
       "  </tbody>\n",
       "</table>\n",
       "</div>"
      ],
      "text/plain": [
       "             click_rate\n",
       "campaign_id            \n",
       "1889           0.049453\n",
       "1890           0.641620\n",
       "1891           0.180942\n",
       "1892           0.180942\n",
       "1893           0.115953"
      ]
     },
     "execution_count": 657,
     "metadata": {},
     "output_type": "execute_result"
    }
   ],
   "source": [
    "average_pred.head()"
   ]
  },
  {
   "cell_type": "code",
   "execution_count": 658,
   "id": "db334248",
   "metadata": {},
   "outputs": [],
   "source": [
    "average_pred.to_csv(\"final.csv\")"
   ]
  },
  {
   "cell_type": "code",
   "execution_count": 632,
   "id": "f3785532",
   "metadata": {},
   "outputs": [
    {
     "data": {
      "text/html": [
       "<div>\n",
       "<style scoped>\n",
       "    .dataframe tbody tr th:only-of-type {\n",
       "        vertical-align: middle;\n",
       "    }\n",
       "\n",
       "    .dataframe tbody tr th {\n",
       "        vertical-align: top;\n",
       "    }\n",
       "\n",
       "    .dataframe thead th {\n",
       "        text-align: right;\n",
       "    }\n",
       "</style>\n",
       "<table border=\"1\" class=\"dataframe\">\n",
       "  <thead>\n",
       "    <tr style=\"text-align: right;\">\n",
       "      <th></th>\n",
       "      <th>click_rate</th>\n",
       "    </tr>\n",
       "    <tr>\n",
       "      <th>campaign_id</th>\n",
       "      <th></th>\n",
       "    </tr>\n",
       "  </thead>\n",
       "  <tbody>\n",
       "    <tr>\n",
       "      <th>1889</th>\n",
       "      <td>0.021883</td>\n",
       "    </tr>\n",
       "    <tr>\n",
       "      <th>1890</th>\n",
       "      <td>0.261223</td>\n",
       "    </tr>\n",
       "    <tr>\n",
       "      <th>1891</th>\n",
       "      <td>0.137917</td>\n",
       "    </tr>\n",
       "    <tr>\n",
       "      <th>1892</th>\n",
       "      <td>0.136437</td>\n",
       "    </tr>\n",
       "    <tr>\n",
       "      <th>1893</th>\n",
       "      <td>0.027368</td>\n",
       "    </tr>\n",
       "  </tbody>\n",
       "</table>\n",
       "</div>"
      ],
      "text/plain": [
       "             click_rate\n",
       "campaign_id            \n",
       "1889           0.021883\n",
       "1890           0.261223\n",
       "1891           0.137917\n",
       "1892           0.136437\n",
       "1893           0.027368"
      ]
     },
     "execution_count": 632,
     "metadata": {},
     "output_type": "execute_result"
    }
   ],
   "source": [
    "sub.head()"
   ]
  },
  {
   "cell_type": "code",
   "execution_count": null,
   "id": "21522802",
   "metadata": {},
   "outputs": [],
   "source": []
  }
 ],
 "metadata": {
  "kernelspec": {
   "display_name": "Python 3 (ipykernel)",
   "language": "python",
   "name": "python3"
  },
  "language_info": {
   "codemirror_mode": {
    "name": "ipython",
    "version": 3
   },
   "file_extension": ".py",
   "mimetype": "text/x-python",
   "name": "python",
   "nbconvert_exporter": "python",
   "pygments_lexer": "ipython3",
   "version": "3.8.10"
  }
 },
 "nbformat": 4,
 "nbformat_minor": 5
}
